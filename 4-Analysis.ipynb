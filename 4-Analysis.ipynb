{
 "cells": [
  {
   "cell_type": "markdown",
   "metadata": {},
   "source": [
    "## Analysis"
   ]
  },
  {
   "cell_type": "code",
   "execution_count": 1,
   "metadata": {},
   "outputs": [],
   "source": [
    "import pandas as pd\n",
    "\n",
    "import matplotlib.pyplot as plt\n",
    "plt.style.use('seaborn')\n",
    "plt.style.use('seaborn-talk')"
   ]
  },
  {
   "cell_type": "code",
   "execution_count": 11,
   "metadata": {},
   "outputs": [
    {
     "data": {
      "text/html": [
       "<div>\n",
       "<style scoped>\n",
       "    .dataframe tbody tr th:only-of-type {\n",
       "        vertical-align: middle;\n",
       "    }\n",
       "\n",
       "    .dataframe tbody tr th {\n",
       "        vertical-align: top;\n",
       "    }\n",
       "\n",
       "    .dataframe thead th {\n",
       "        text-align: right;\n",
       "    }\n",
       "</style>\n",
       "<table border=\"1\" class=\"dataframe\">\n",
       "  <thead>\n",
       "    <tr style=\"text-align: right;\">\n",
       "      <th></th>\n",
       "      <th>65807</th>\n",
       "      <th>65802</th>\n",
       "      <th>65804</th>\n",
       "      <th>65810</th>\n",
       "      <th>65806</th>\n",
       "      <th>65809</th>\n",
       "    </tr>\n",
       "    <tr>\n",
       "      <th>date</th>\n",
       "      <th></th>\n",
       "      <th></th>\n",
       "      <th></th>\n",
       "      <th></th>\n",
       "      <th></th>\n",
       "      <th></th>\n",
       "    </tr>\n",
       "  </thead>\n",
       "  <tbody>\n",
       "    <tr>\n",
       "      <th>2019-12-01</th>\n",
       "      <td>137481.612848</td>\n",
       "      <td>100931.114780</td>\n",
       "      <td>168107.429120</td>\n",
       "      <td>208566.975000</td>\n",
       "      <td>64758.461240</td>\n",
       "      <td>314575.448793</td>\n",
       "    </tr>\n",
       "    <tr>\n",
       "      <th>2020-01-01</th>\n",
       "      <td>138193.703838</td>\n",
       "      <td>101074.440374</td>\n",
       "      <td>169160.295731</td>\n",
       "      <td>208933.789680</td>\n",
       "      <td>64901.576122</td>\n",
       "      <td>316724.333984</td>\n",
       "    </tr>\n",
       "    <tr>\n",
       "      <th>2020-02-01</th>\n",
       "      <td>138907.295866</td>\n",
       "      <td>101217.932291</td>\n",
       "      <td>170215.629355</td>\n",
       "      <td>209301.077634</td>\n",
       "      <td>65046.137845</td>\n",
       "      <td>318882.407084</td>\n",
       "    </tr>\n",
       "    <tr>\n",
       "      <th>2020-03-01</th>\n",
       "      <td>139622.377104</td>\n",
       "      <td>101361.578804</td>\n",
       "      <td>171273.430893</td>\n",
       "      <td>209668.783798</td>\n",
       "      <td>65192.146407</td>\n",
       "      <td>321049.672687</td>\n",
       "    </tr>\n",
       "    <tr>\n",
       "      <th>2020-04-01</th>\n",
       "      <td>140338.942900</td>\n",
       "      <td>101505.374645</td>\n",
       "      <td>172333.700868</td>\n",
       "      <td>210036.867794</td>\n",
       "      <td>65339.601810</td>\n",
       "      <td>323226.133471</td>\n",
       "    </tr>\n",
       "  </tbody>\n",
       "</table>\n",
       "</div>"
      ],
      "text/plain": [
       "                    65807          65802          65804          65810  \\\n",
       "date                                                                     \n",
       "2019-12-01  137481.612848  100931.114780  168107.429120  208566.975000   \n",
       "2020-01-01  138193.703838  101074.440374  169160.295731  208933.789680   \n",
       "2020-02-01  138907.295866  101217.932291  170215.629355  209301.077634   \n",
       "2020-03-01  139622.377104  101361.578804  171273.430893  209668.783798   \n",
       "2020-04-01  140338.942900  101505.374645  172333.700868  210036.867794   \n",
       "\n",
       "                   65806          65809  \n",
       "date                                     \n",
       "2019-12-01  64758.461240  314575.448793  \n",
       "2020-01-01  64901.576122  316724.333984  \n",
       "2020-02-01  65046.137845  318882.407084  \n",
       "2020-03-01  65192.146407  321049.672687  \n",
       "2020-04-01  65339.601810  323226.133471  "
      ]
     },
     "execution_count": 11,
     "metadata": {},
     "output_type": "execute_result"
    }
   ],
   "source": [
    "arima_predictions = pd.read_csv('data/arima_predictions', index_col='date')\n",
    "arima_predictions.index = pd.to_datetime(arima_predictions.index)\n",
    "arima_predictions.tail()"
   ]
  },
  {
   "cell_type": "code",
   "execution_count": 3,
   "metadata": {},
   "outputs": [
    {
     "data": {
      "text/html": [
       "<div>\n",
       "<style scoped>\n",
       "    .dataframe tbody tr th:only-of-type {\n",
       "        vertical-align: middle;\n",
       "    }\n",
       "\n",
       "    .dataframe tbody tr th {\n",
       "        vertical-align: top;\n",
       "    }\n",
       "\n",
       "    .dataframe thead th {\n",
       "        text-align: right;\n",
       "    }\n",
       "</style>\n",
       "<table border=\"1\" class=\"dataframe\">\n",
       "  <thead>\n",
       "    <tr style=\"text-align: right;\">\n",
       "      <th></th>\n",
       "      <th>65807</th>\n",
       "      <th>65802</th>\n",
       "      <th>65804</th>\n",
       "      <th>65810</th>\n",
       "      <th>65806</th>\n",
       "      <th>65809</th>\n",
       "    </tr>\n",
       "    <tr>\n",
       "      <th>date</th>\n",
       "      <th></th>\n",
       "      <th></th>\n",
       "      <th></th>\n",
       "      <th></th>\n",
       "      <th></th>\n",
       "      <th></th>\n",
       "    </tr>\n",
       "  </thead>\n",
       "  <tbody>\n",
       "    <tr>\n",
       "      <th>2019-12-01</th>\n",
       "      <td>127070.233087</td>\n",
       "      <td>99174.442951</td>\n",
       "      <td>148194.536870</td>\n",
       "      <td>202212.222251</td>\n",
       "      <td>63707.912363</td>\n",
       "      <td>265616.752851</td>\n",
       "    </tr>\n",
       "    <tr>\n",
       "      <th>2020-01-01</th>\n",
       "      <td>127517.386168</td>\n",
       "      <td>99590.750794</td>\n",
       "      <td>148669.931055</td>\n",
       "      <td>202847.907779</td>\n",
       "      <td>63653.907614</td>\n",
       "      <td>266730.304083</td>\n",
       "    </tr>\n",
       "    <tr>\n",
       "      <th>2020-02-01</th>\n",
       "      <td>127809.488868</td>\n",
       "      <td>99904.390392</td>\n",
       "      <td>149031.206487</td>\n",
       "      <td>203300.825200</td>\n",
       "      <td>63584.750557</td>\n",
       "      <td>267542.519975</td>\n",
       "    </tr>\n",
       "    <tr>\n",
       "      <th>2020-03-01</th>\n",
       "      <td>128064.701521</td>\n",
       "      <td>100012.391682</td>\n",
       "      <td>149444.405223</td>\n",
       "      <td>203721.232062</td>\n",
       "      <td>63874.360932</td>\n",
       "      <td>268200.753897</td>\n",
       "    </tr>\n",
       "    <tr>\n",
       "      <th>2020-04-01</th>\n",
       "      <td>128651.011816</td>\n",
       "      <td>100255.124506</td>\n",
       "      <td>149841.237435</td>\n",
       "      <td>204064.850838</td>\n",
       "      <td>63873.122266</td>\n",
       "      <td>267778.466056</td>\n",
       "    </tr>\n",
       "  </tbody>\n",
       "</table>\n",
       "</div>"
      ],
      "text/plain": [
       "                    65807          65802          65804          65810  \\\n",
       "date                                                                     \n",
       "2019-12-01  127070.233087   99174.442951  148194.536870  202212.222251   \n",
       "2020-01-01  127517.386168   99590.750794  148669.931055  202847.907779   \n",
       "2020-02-01  127809.488868   99904.390392  149031.206487  203300.825200   \n",
       "2020-03-01  128064.701521  100012.391682  149444.405223  203721.232062   \n",
       "2020-04-01  128651.011816  100255.124506  149841.237435  204064.850838   \n",
       "\n",
       "                   65806          65809  \n",
       "date                                     \n",
       "2019-12-01  63707.912363  265616.752851  \n",
       "2020-01-01  63653.907614  266730.304083  \n",
       "2020-02-01  63584.750557  267542.519975  \n",
       "2020-03-01  63874.360932  268200.753897  \n",
       "2020-04-01  63873.122266  267778.466056  "
      ]
     },
     "execution_count": 3,
     "metadata": {},
     "output_type": "execute_result"
    }
   ],
   "source": [
    "prophet_predictions = pd.read_csv('data/prophet_predictions.csv', index_col='date')\n",
    "prophet_predictions.index = pd.to_datetime(arima_predictions.index)\n",
    "prophet_predictions.tail()"
   ]
  },
  {
   "cell_type": "markdown",
   "metadata": {},
   "source": [
    "### test -Deric"
   ]
  },
  {
   "cell_type": "code",
   "execution_count": 4,
   "metadata": {},
   "outputs": [],
   "source": [
    "arima_rmses = pd.read_csv('data/arima_rmses.csv', index_col=0)\n",
    "fb_rmses = pd.read_csv('data/fb_rmses.csv', index_col=0)\n",
    "fb_rmses.drop(columns=['zip_code'], inplace=True)"
   ]
  },
  {
   "cell_type": "code",
   "execution_count": 5,
   "metadata": {
    "scrolled": true
   },
   "outputs": [],
   "source": [
    "df_rmse = pd.concat([arima_rmses, fb_rmses], axis=1)"
   ]
  },
  {
   "cell_type": "code",
   "execution_count": 6,
   "metadata": {},
   "outputs": [],
   "source": [
    "def best_model(row):\n",
    "    if row['arima_rmse'] < row['fb_rmse']:\n",
    "        val = 'arima'\n",
    "    else:\n",
    "        val = 'fb'\n",
    "    return val\n",
    "\n",
    "df_rmse['best_model'] = df_rmse.apply(best_model, axis=1)"
   ]
  },
  {
   "cell_type": "code",
   "execution_count": 7,
   "metadata": {
    "scrolled": false
   },
   "outputs": [
    {
     "data": {
      "text/html": [
       "<div>\n",
       "<style scoped>\n",
       "    .dataframe tbody tr th:only-of-type {\n",
       "        vertical-align: middle;\n",
       "    }\n",
       "\n",
       "    .dataframe tbody tr th {\n",
       "        vertical-align: top;\n",
       "    }\n",
       "\n",
       "    .dataframe thead th {\n",
       "        text-align: right;\n",
       "    }\n",
       "</style>\n",
       "<table border=\"1\" class=\"dataframe\">\n",
       "  <thead>\n",
       "    <tr style=\"text-align: right;\">\n",
       "      <th></th>\n",
       "      <th>zip_code</th>\n",
       "      <th>arima_rmse</th>\n",
       "      <th>fb_rmse</th>\n",
       "      <th>best_model</th>\n",
       "    </tr>\n",
       "  </thead>\n",
       "  <tbody>\n",
       "    <tr>\n",
       "      <th>0</th>\n",
       "      <td>65807</td>\n",
       "      <td>1731</td>\n",
       "      <td>3829</td>\n",
       "      <td>arima</td>\n",
       "    </tr>\n",
       "    <tr>\n",
       "      <th>1</th>\n",
       "      <td>65802</td>\n",
       "      <td>3342</td>\n",
       "      <td>3074</td>\n",
       "      <td>fb</td>\n",
       "    </tr>\n",
       "    <tr>\n",
       "      <th>2</th>\n",
       "      <td>65804</td>\n",
       "      <td>2229</td>\n",
       "      <td>4339</td>\n",
       "      <td>arima</td>\n",
       "    </tr>\n",
       "    <tr>\n",
       "      <th>3</th>\n",
       "      <td>65810</td>\n",
       "      <td>4222</td>\n",
       "      <td>6539</td>\n",
       "      <td>arima</td>\n",
       "    </tr>\n",
       "    <tr>\n",
       "      <th>4</th>\n",
       "      <td>65806</td>\n",
       "      <td>3073</td>\n",
       "      <td>3740</td>\n",
       "      <td>arima</td>\n",
       "    </tr>\n",
       "    <tr>\n",
       "      <th>5</th>\n",
       "      <td>65809</td>\n",
       "      <td>11553</td>\n",
       "      <td>13054</td>\n",
       "      <td>arima</td>\n",
       "    </tr>\n",
       "  </tbody>\n",
       "</table>\n",
       "</div>"
      ],
      "text/plain": [
       "   zip_code  arima_rmse  fb_rmse best_model\n",
       "0     65807        1731     3829      arima\n",
       "1     65802        3342     3074         fb\n",
       "2     65804        2229     4339      arima\n",
       "3     65810        4222     6539      arima\n",
       "4     65806        3073     3740      arima\n",
       "5     65809       11553    13054      arima"
      ]
     },
     "execution_count": 7,
     "metadata": {},
     "output_type": "execute_result"
    }
   ],
   "source": [
    "df_rmse"
   ]
  },
  {
   "cell_type": "markdown",
   "metadata": {},
   "source": [
    "> Important to note that the RMSE was lower on all ARIMA models except for the zip code 65802."
   ]
  },
  {
   "cell_type": "code",
   "execution_count": 9,
   "metadata": {},
   "outputs": [
    {
     "name": "stdout",
     "output_type": "stream",
     "text": [
      "Arima slope\n",
      "65807 slope: 22.76\n",
      "65802 slope: 4.99\n",
      "65804 slope: 34.19\n",
      "65810 slope: 11.8\n",
      "65806 slope: 4.32\n",
      "65809 slope: 69.41\n",
      "\n",
      "\n",
      "Fb prophet average slope\n",
      "65807 slope: 12.9\n",
      "65802 slope: 8.21\n",
      "65804 slope: 11.88\n",
      "65810 slope: 15.84\n",
      "65806 slope: 4.36\n",
      "65809 slope: 12.58\n"
     ]
    }
   ],
   "source": [
    "from scipy import stats\n",
    "import datetime as dt\n",
    "\n",
    "arima_predictions['date_ordinal'] = arima_predictions.index.map(dt.datetime.toordinal)\n",
    "prophet_predictions['date_ordinal'] = prophet_predictions.index.map(dt.datetime.toordinal)\n",
    "\n",
    "print('Arima slope')\n",
    "for col in arima_predictions.columns[:-1]:\n",
    "    slope = stats.linregress(arima_predictions['date_ordinal'], arima_predictions[col])[0]\n",
    "    print(col, 'slope:', round(slope,2))\n",
    "    \n",
    "print('\\n\\nFb prophet average slope')    \n",
    "for col in arima_predictions.columns[:-1]:\n",
    "    slope = stats.linregress(prophet_predictions['date_ordinal'], prophet_predictions[col])[0]\n",
    "    print(col, 'slope:', round(slope,2))"
   ]
  },
  {
   "cell_type": "markdown",
   "metadata": {},
   "source": [
    ">Arima slope algorithm proves that the zip code with the greatest potential as:\n",
    "><ol>\n",
    "> <li>65809 slope: 69.41  (High Relative Rmse)</li> \n",
    "> <li>65804 slope: 34.19 </li>\n",
    "> <li>65807 slope: 22.76 </li>\n",
    "> <li>65810 slope: 11.80 </li>\n",
    "> <li>65802 slope: 4.99 </li>\n",
    "> <li>65806 slope: 4.32 </li>\n",
    "> </ol>"
   ]
  },
  {
   "cell_type": "markdown",
   "metadata": {},
   "source": [
    ">FB Prophet slope algorithm proves that the zip code with the greatest potential as:\n",
    "> <ol>\n",
    "> <li>65810 slope: 15.84 </li>\n",
    "><li>65807 slope: 12.90 </li>\n",
    "><li>65809 slope: 12.58 (High Relative Rmse) </li>\n",
    "><li>65804 slope: 11.88 </li>\n",
    "><li>65802 slope:  8.21 </li>\n",
    "><li>65806 slope:  4.36 </li>\n",
    "></ol>"
   ]
  },
  {
   "cell_type": "markdown",
   "metadata": {},
   "source": [
    "## Conclusion"
   ]
  },
  {
   "cell_type": "markdown",
   "metadata": {},
   "source": [
    "Based on the models, we have concluded that zip code 65804 would be the best zip code for the home renovation company to invest their money in. If focusing in the 65804 area, the company should see the average housing prices continuing to increase over the next two years. \n",
    "\n",
    "A few reasons we came to this decision:\n",
    "<ul>\n",
    "<li>65804 had the second highest slope in our ARIMA model besides 65809 (which was eliminated in the decision-making process due to a high relative RMSE)</ul>\n",
    "<li>Had a lower RMSE in the ARIMA model compared to other zip codes</ul>\n",
    "</ul>\n"
   ]
  }
 ],
 "metadata": {
  "kernelspec": {
   "display_name": "Python 3",
   "language": "python",
   "name": "python3"
  },
  "language_info": {
   "codemirror_mode": {
    "name": "ipython",
    "version": 3
   },
   "file_extension": ".py",
   "mimetype": "text/x-python",
   "name": "python",
   "nbconvert_exporter": "python",
   "pygments_lexer": "ipython3",
   "version": "3.6.9"
  },
  "toc": {
   "base_numbering": 1,
   "nav_menu": {},
   "number_sections": true,
   "sideBar": true,
   "skip_h1_title": false,
   "title_cell": "Table of Contents",
   "title_sidebar": "Contents",
   "toc_cell": false,
   "toc_position": {},
   "toc_section_display": true,
   "toc_window_display": true
  }
 },
 "nbformat": 4,
 "nbformat_minor": 4
}
